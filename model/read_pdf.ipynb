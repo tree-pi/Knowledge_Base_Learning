{
 "cells": [
  {
   "cell_type": "code",
   "execution_count": 47,
   "metadata": {
    "collapsed": true
   },
   "outputs": [],
   "source": [
    "import numpy as np\n",
    "import pandas as pd\n",
    "from IPython.core.debugger import set_trace\n",
    "import pickle"
   ]
  },
  {
   "cell_type": "code",
   "execution_count": 53,
   "metadata": {
    "collapsed": false
   },
   "outputs": [],
   "source": [
    "items = 'pine oak rose daisy robin canary sunfish salmon'.split() # just copied from the table\n",
    "nitem=len(items)\n"
   ]
  },
  {
   "cell_type": "code",
   "execution_count": 54,
   "metadata": {
    "collapsed": false
   },
   "outputs": [],
   "source": [
    "# goal: 1) dictionary between index and label 2) triplets\n",
    "keys = ['item','relation','outp']\n",
    "\n",
    "TripletD = {}\n",
    "for k in keys:\n",
    "    TripletD[k]=[]\n",
    "\n",
    "# start reading from table: first part\n",
    "nitm_tb1 = 5\n",
    "f = open(\"rawdata_pdf_0-5.txt\")\n",
    "content = f.readline().split()\n",
    "\n",
    "relas = []\n",
    "relaind = -1\n",
    "relarow =[] # record each row's corresponding relations for reading the 2nd part of table\n",
    "\n",
    "outps =[]\n",
    "outind = -1\n",
    "itemind = -1\n",
    "\n",
    "for c in content:\n",
    "    if '...' in c: #relation name\n",
    "        relas.append(c.strip('...'))\n",
    "        relaind += 1\n",
    "        continue\n",
    "    if '1' in c or '0' in c: # yes or no about each triplet. \n",
    "        if len(c)>1: # read one-by-one\n",
    "            for itemind in range(len(c)):\n",
    "                if c[itemind]=='1':\n",
    "                    write_triplet(itemind,relaind,outind)\n",
    "            continue\n",
    "        else:\n",
    "            itemind = (itemind+1)%nitm_tb1\n",
    "            if c=='1': # not recording 0s. do you want negative training set as well??\n",
    "                write_triplet(itemind,relaind,outind)            \n",
    "            continue\n",
    "    else: # outp. marks a new row\n",
    "        outps.append(c)\n",
    "        outind+=1\n",
    "        relarow.append(relaind) # what's the current relation in this row\n",
    "        continue\n",
    "            \n",
    "        \n",
    "\n",
    "# the 2nd part of table\n",
    "nitm_tb2 = 3\n",
    "f = open(\"rawdata_pdf_5-7.txt\")\n",
    "content = f.readline().split()\n",
    "\n",
    "k=-1\n",
    "for c in content:\n",
    "    k+=1\n",
    "    if c=='1':\n",
    "        itemind=k%nitm_tb2+nitm_tb1\n",
    "        outind = int(k/nitm_tb2)\n",
    "        relaind = relarow[outind]\n",
    "        write_triplet(itemind,relaind,outind)    \n",
    "\n",
    "        \n",
    "IndexDict = {} \n",
    "IndexDict['item'] = pd.Series(data=items)\n",
    "IndexDict['relation'] = pd.Series(data=relas)\n",
    "IndexDict['outp']=pd.Series(data=outps)\n"
   ]
  },
  {
   "cell_type": "code",
   "execution_count": 55,
   "metadata": {
    "collapsed": false
   },
   "outputs": [],
   "source": [
    "# convert into 1-hot representation\n",
    "Triplet1hots={}\n",
    "for key in TripletD.keys():\n",
    "    Triplet1hots[key] = ind2onehot(TripletD[key],len(IndexDict[key]))"
   ]
  },
  {
   "cell_type": "code",
   "execution_count": 58,
   "metadata": {
    "collapsed": false
   },
   "outputs": [],
   "source": [
    "pickle.dump([Triplet1hots,TripletD,IndexDict],open('tableB1','wb'))"
   ]
  },
  {
   "cell_type": "code",
   "execution_count": 40,
   "metadata": {
    "collapsed": false
   },
   "outputs": [],
   "source": [
    "def ind2onehot(inds,maxn):\n",
    "    onehot = np.zeros((len(inds),maxn))\n",
    "    for i in range(len(inds)):\n",
    "        onehot[i][inds[i]]=1\n",
    "    return onehot\n",
    "def onehot2ind(onehots):\n",
    "    inds = np.zeros(len(onehots),dtype=int)\n",
    "    for k in range(len(onehots)):\n",
    "        oh = onehots[k]\n",
    "        inds[k] = np.argwhere(oh)\n",
    "    return inds"
   ]
  },
  {
   "cell_type": "code",
   "execution_count": 15,
   "metadata": {
    "collapsed": false
   },
   "outputs": [],
   "source": [
    "def write_triplet(item,rela,outp): # not transformed into 1-hot.\n",
    "    TripletD['item'].append(item)\n",
    "    TripletD['relation'].append(rela)\n",
    "    TripletD['outp'].append(outp)"
   ]
  }
 ],
 "metadata": {
  "anaconda-cloud": {},
  "kernelspec": {
   "display_name": "Python [Root]",
   "language": "python",
   "name": "Python [Root]"
  },
  "language_info": {
   "codemirror_mode": {
    "name": "ipython",
    "version": 3
   },
   "file_extension": ".py",
   "mimetype": "text/x-python",
   "name": "python",
   "nbconvert_exporter": "python",
   "pygments_lexer": "ipython3",
   "version": "3.5.2"
  }
 },
 "nbformat": 4,
 "nbformat_minor": 2
}
