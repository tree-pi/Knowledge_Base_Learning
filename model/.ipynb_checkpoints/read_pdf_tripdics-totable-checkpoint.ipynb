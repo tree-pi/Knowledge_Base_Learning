{
 "cells": [
  {
   "cell_type": "code",
   "execution_count": 1,
   "metadata": {
    "collapsed": true
   },
   "outputs": [],
   "source": [
    "import numpy as np\n",
    "import pandas as pd\n",
    "from IPython.core.debugger import set_trace\n",
    "import pickle"
   ]
  },
  {
   "cell_type": "code",
   "execution_count": 2,
   "metadata": {
    "collapsed": false
   },
   "outputs": [],
   "source": [
    "items = 'pine oak rose daisy robin canary sunfish salmon'.split() # just copied from the table\n",
    "nitem=len(items)\n"
   ]
  },
  {
   "cell_type": "code",
   "execution_count": 3,
   "metadata": {
    "collapsed": false
   },
   "outputs": [
    {
     "data": {
      "text/plain": [
       "0"
      ]
     },
     "execution_count": 3,
     "metadata": {},
     "output_type": "execute_result"
    }
   ],
   "source": [
    "int('0')"
   ]
  },
  {
   "cell_type": "code",
   "execution_count": 5,
   "metadata": {
    "collapsed": false
   },
   "outputs": [],
   "source": [
    "def write_dtable(DataTable,h,t,r,y): # not transformed into 1-hot.\n",
    "    DataTable['h'].append(h)\n",
    "    DataTable['t'].append(t)\n",
    "    DataTable['r'].append(r)\n",
    "    DataTable['y'].append(y)"
   ]
  },
  {
   "cell_type": "code",
   "execution_count": 35,
   "metadata": {
    "collapsed": false
   },
   "outputs": [],
   "source": [
    "# goal: 1) dictionary between index and label 2) triplets\n",
    "keys = ['entity','relation']\n",
    "\n",
    "idDict = {}\n",
    "\n",
    "for k in keys:\n",
    "    idDict[k]=[]\n",
    "idDict['entity']=items\n",
    "\n",
    "datakey = ['h','t','r','y']\n",
    "DataTable={}\n",
    "for k in datakey:\n",
    "    DataTable[k]=[]\n",
    "\n",
    "\n",
    "# start reading from table: first part\n",
    "nitm_tb1 = 5\n",
    "f = open(\"rawdata_pdf_0-5.txt\")\n",
    "content = f.readline().split()\n",
    "\n",
    "relas = []\n",
    "relaind = -1\n",
    "\n",
    "outps =[]\n",
    "itemind = -1 # only the first nitem entities (heads are restricted)\n",
    "\n",
    "\n",
    "relarow =[] # record each row's corresponding relations for reading the 2nd part of table\n",
    "entrow=[]\n",
    "\n",
    "for c in content:\n",
    "    c = c.lower()\n",
    "    \n",
    "    if '...' in c: #relation name\n",
    "        idDict['relation'].append(c.strip('...'))\n",
    "        relaind += 1\n",
    "        continue\n",
    "    if '1' in c or '0' in c: # yes or no about each triplet. \n",
    "        if len(c)>1: # read one-by-one\n",
    "            for itemind,y in enumerate(c):\n",
    "                write_dtable(DataTable,itemind,entind,relaind,int(y))\n",
    "            itemind=-1 # back to initial state\n",
    "            continue\n",
    "        else:\n",
    "            itemind = (itemind+1)%nitm_tb1\n",
    "            write_dtable(DataTable,itemind,entind,relaind,int(c)) \n",
    "            continue\n",
    "    else: # outp. marks a new row\n",
    "        \n",
    "        if c not in idDict['entity']:\n",
    "            idDict['entity'].append(c)\n",
    "            entind = len(idDict['entity'])-1\n",
    "        else:\n",
    "            entind=idDict['entity'].index(c)\n",
    "        relarow.append(relaind) # what's the current relation in this row\n",
    "        entrow.append(entind)\n",
    "        continue\n",
    "            \n",
    "        \n",
    "\n",
    "# the 2nd part of table\n",
    "nitm_tb2 = 3\n",
    "f = open(\"rawdata_pdf_5-7.txt\")\n",
    "content = f.readline().split()\n",
    "\n",
    "k=-1\n",
    "for c in content:\n",
    "    k+=1\n",
    "    \n",
    "    itemind=k%nitm_tb2+nitm_tb1\n",
    "    outind = entrow[int(k/nitm_tb2)]\n",
    "    relaind = relarow[int(k/nitm_tb2)]\n",
    "    write_dtable(DataTable,itemind,outind,relaind,int(c))    \n",
    "\n",
    "IndexDict={}\n",
    "for k in idDict.keys():        \n",
    "    IndexDict[k] = pd.Series(data=idDict[k])\n",
    "Data = pd.DataFrame(data=DataTable)"
   ]
  },
  {
   "cell_type": "code",
   "execution_count": 33,
   "metadata": {
    "collapsed": false
   },
   "outputs": [],
   "source": [
    "# convert into 1-hot representation\n",
    "Data1hots={}\n",
    "for key in ['h','t']:\n",
    "    Data1hots[key] = ind2onehot(Data[key],len(IndexDict['entity']))\n",
    "Data1hots['r'] = ind2onehot(Data['r'],len(IndexDict['relation']))\n",
    "Data1hots['y']=Data['y']"
   ]
  },
  {
   "cell_type": "code",
   "execution_count": 36,
   "metadata": {
    "collapsed": false
   },
   "outputs": [],
   "source": [
    "pickle.dump([Data1hots,Data,IndexDict],open('tableB1-entities','wb'))"
   ]
  },
  {
   "cell_type": "code",
   "execution_count": 16,
   "metadata": {
    "collapsed": false
   },
   "outputs": [],
   "source": [
    "def ind2onehot(inds,maxn):\n",
    "    onehot = np.zeros((len(inds),maxn))\n",
    "    for i in range(len(inds)):\n",
    "        onehot[i][inds[i]]=1\n",
    "    return onehot\n",
    "def onehot2ind(onehots):\n",
    "    inds = np.zeros(len(onehots),dtype=int)\n",
    "    for k in range(len(onehots)):\n",
    "        oh = onehots[k]\n",
    "        inds[k] = np.argwhere(oh)\n",
    "    return inds"
   ]
  }
 ],
 "metadata": {
  "anaconda-cloud": {},
  "kernelspec": {
   "display_name": "Python [Root]",
   "language": "python",
   "name": "Python [Root]"
  },
  "language_info": {
   "codemirror_mode": {
    "name": "ipython",
    "version": 3
   },
   "file_extension": ".py",
   "mimetype": "text/x-python",
   "name": "python",
   "nbconvert_exporter": "python",
   "pygments_lexer": "ipython3",
   "version": "3.5.2"
  }
 },
 "nbformat": 4,
 "nbformat_minor": 2
}
