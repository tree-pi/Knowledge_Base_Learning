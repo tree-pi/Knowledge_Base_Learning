{
 "cells": [
  {
   "cell_type": "code",
   "execution_count": 1,
   "metadata": {
    "collapsed": true
   },
   "outputs": [],
   "source": [
    "import numpy as np\n",
    "import pandas as pd\n",
    "import matplotlib.pyplot as plt # delete later\n",
    "import random\n",
    "import math\n",
    "from IPython.core.debugger import set_trace\n",
    "import pickle"
   ]
  },
  {
   "cell_type": "code",
   "execution_count": 122,
   "metadata": {
    "collapsed": true
   },
   "outputs": [],
   "source": [
    "#[Data_onehot,Data,IndexDict] = pickle.load(open('tableB1-entities','rb'))\n",
    "[Data,IndexDict,idsubdict]=pickle.load(open('../data/mammal_data.p','rb'))"
   ]
  },
  {
   "cell_type": "code",
   "execution_count": 102,
   "metadata": {
    "collapsed": false,
    "scrolled": false
   },
   "outputs": [],
   "source": [
    "# generate negative samples\n",
    "new={}\n",
    "new['r'] = []\n",
    "new['h'] =[]\n",
    "new['t'] = []\n",
    "\n",
    "for ktrip in range(1,len(Data['h'])):\n",
    "    h = Data['h'][ktrip]\n",
    "    r = Data['r'][ktrip]\n",
    "    if (r==Data['r'][ktrip-1]) & (h==Data['h'][ktrip-1]):\n",
    "        continue # repetitve head-relation\n",
    "    else:\n",
    "        tdict=Data['t']\n",
    "        goodts = tdict[(Data['h']==h) & (Data['r']==r) & (Data['y']==1)]\n",
    "        if len(goodts)==0:\n",
    "            continue\n",
    "        otherts = tdict[(Data['h']!=h) & (Data['r']==r)& (Data['y']==1)]\n",
    "        badts=list(set(otherts)-set(goodts))\n",
    "        if len(badts)!=0:\n",
    "            nbad=min(3,len(badts))\n",
    "            new['h'] = new['h']+[h for k in range(nbad)]\n",
    "            new['r'] = new['r']+[r for k in range(nbad)]\n",
    "            [new['t'].append(k) for k in np.random.choice(badts,size=nbad,replace=False)]\n",
    "            \n",
    "assert len(new['h'])==len(new['t'])\n",
    "new['y'] = [-1 for k in range(len(newhs))]"
   ]
  },
  {
   "cell_type": "code",
   "execution_count": 117,
   "metadata": {
    "collapsed": false
   },
   "outputs": [],
   "source": [
    "MoreD={}\n",
    "for k in Data.keys():\n",
    "    MoreD[k] = list(Data[k])+new[k]\n",
    "MoreD=pd.DataFrame(MoreD)"
   ]
  },
  {
   "cell_type": "code",
   "execution_count": 124,
   "metadata": {
    "collapsed": true
   },
   "outputs": [],
   "source": [
    "pddict={}\n",
    "for key in IndexDict.keys():\n",
    "    pddict[key] = pd.Series(IndexDict[key]) "
   ]
  },
  {
   "cell_type": "code",
   "execution_count": 125,
   "metadata": {
    "collapsed": false
   },
   "outputs": [],
   "source": [
    "pickle.dump([MoreD,pddict], open('../data/mammal_data_addfalse.p','wb'))"
   ]
  }
 ],
 "metadata": {
  "anaconda-cloud": {},
  "kernelspec": {
   "display_name": "Python [Root]",
   "language": "python",
   "name": "Python [Root]"
  },
  "language_info": {
   "codemirror_mode": {
    "name": "ipython",
    "version": 3
   },
   "file_extension": ".py",
   "mimetype": "text/x-python",
   "name": "python",
   "nbconvert_exporter": "python",
   "pygments_lexer": "ipython3",
   "version": "3.5.2"
  }
 },
 "nbformat": 4,
 "nbformat_minor": 2
}
