{
 "cells": [
  {
   "cell_type": "markdown",
   "metadata": {},
   "source": [
    "the idea is to use the \"istypeof\" info. specifically, adding relations by claiming all subtypes should have the same feature as supconcept. equivalent to making deduction (i.e. a demonstration of why logic is useful)."
   ]
  },
  {
   "cell_type": "code",
   "execution_count": 1,
   "metadata": {
    "collapsed": true
   },
   "outputs": [],
   "source": [
    "import numpy as np\n",
    "import pandas as pd\n",
    "import matplotlib.pyplot as plt # delete later\n",
    "import random\n",
    "import math\n",
    "from IPython.core.debugger import set_trace\n",
    "import pickle"
   ]
  },
  {
   "cell_type": "code",
   "execution_count": 2,
   "metadata": {
    "collapsed": false
   },
   "outputs": [],
   "source": [
    "#[Data_onehot,Data,IndexDict] = pickle.load(open('tableB1-entities','rb'))\n",
    "[Data,IndexDict,idsubdict]=pickle.load(open('../data/mammal_data.p','rb'))"
   ]
  },
  {
   "cell_type": "code",
   "execution_count": 16,
   "metadata": {
    "collapsed": false
   },
   "outputs": [],
   "source": [
    "pddict={}\n",
    "for key in IndexDict.keys():\n",
    "    pddict[key] = pd.Series(IndexDict[key]) "
   ]
  },
  {
   "cell_type": "code",
   "execution_count": 17,
   "metadata": {
    "collapsed": true
   },
   "outputs": [],
   "source": [
    "IndexDict = pddict"
   ]
  },
  {
   "cell_type": "code",
   "execution_count": 47,
   "metadata": {
    "collapsed": true
   },
   "outputs": [],
   "source": [
    "def idx2name(triplets):\n",
    "    # input: dictionary with h,r,t,y each is a list.\n",
    "    if isinstance(triplets, pd.DataFrame):\n",
    "        triplets=triplets.to_dict('list')\n",
    "    \n",
    "    # output: string of each triplet in natural language\n",
    "    ntrip=len(triplets['y'])\n",
    "    ngoodtrip=sum(triplets['y']) \n",
    "    \n",
    "    assert ngoodtrip<=ntrip\n",
    "        \n",
    "    alltrips = ['' for k in range(ntrip)]\n",
    "    goodtrips = []\n",
    "    for ii in range(ntrip):\n",
    "        alltrips[ii]+=IndexDict['entity'][triplets['h'][ii]] + '-'\n",
    "        alltrips[ii]+=IndexDict['relation'][triplets['r'][ii]] + '-'\n",
    "        alltrips[ii]+=IndexDict['entity'][triplets['t'][ii]]\n",
    "        \n",
    "        if triplets['y'][ii]:\n",
    "            goodtrips.append(alltrips[ii])\n",
    "        alltrips[ii]+= ': '+str(bool(triplets['y'][ii]>0))\n",
    "    return alltrips,goodtrips  "
   ]
  },
  {
   "cell_type": "code",
   "execution_count": 53,
   "metadata": {
    "collapsed": false,
    "scrolled": true
   },
   "outputs": [],
   "source": [
    "# identifying sup / sub concepts\n",
    "# simple version: 1 layer of deduction // TODO: 2 layered propagation\n",
    "\n",
    "# 1. find all correct triplets with \"iskindof\" relation\n",
    "\n",
    "rid=np.where(IndexDict['relation']=='is a kind of')[0][0]\n",
    "\n",
    "corrD = Data[Data['y']==1]\n",
    "goodD=corrD[corrD['r']==rid] \n",
    "subcon = {}\n",
    "for kt in set(goodD['t']):\n",
    "    subcon[kt]=list(goodD[goodD['t']==kt]['h'])\n",
    "    \n",
    "# 2. add all triplets with head of the sup concept\n",
    "newdlist=[]\n",
    "for supc in subcon.keys():\n",
    "    tripid = list(Data['h'][Data['h']==supc].index)\n",
    "    for sub in subcon[supc]:        \n",
    "        for ii in tripid:\n",
    "            newdlist.append([sub,Data['r'][ii],Data['t'][ii]])\n",
    "newdata = pd.DataFrame(data=newdlist,columns=['h','r','t'])\n",
    "newdata['y']=np.ones(len(newdlist),dtype=int)"
   ]
  },
  {
   "cell_type": "code",
   "execution_count": 55,
   "metadata": {
    "collapsed": false
   },
   "outputs": [
    {
     "name": "stdout",
     "output_type": "stream",
     "text": [
      "['adult raccoon-is eaten by-bobcat', 'adult raccoon-is eaten by-coyote', 'adult raccoon-is eaten by-great horned owl', 'adult raccoon-is eaten by-red fox', 'adult raccoon-lives in-barrel', 'adult raccoon-lives in-burrow', 'adult raccoon-lives in-cave', 'adult raccoon-lives in-culvert', 'adult raccoon-lives in-den', 'adult raccoon-lives in-drain pipe']\n"
     ]
    }
   ],
   "source": [
    "print(idx2name(newdata[112:122])[1]) #sanity check to see if new "
   ]
  },
  {
   "cell_type": "code",
   "execution_count": 63,
   "metadata": {
    "collapsed": false
   },
   "outputs": [],
   "source": [
    "Data=Data.append(newdata)"
   ]
  },
  {
   "cell_type": "code",
   "execution_count": 64,
   "metadata": {
    "collapsed": false
   },
   "outputs": [
    {
     "data": {
      "text/plain": [
       "5035"
      ]
     },
     "execution_count": 64,
     "metadata": {},
     "output_type": "execute_result"
    }
   ],
   "source": [
    "len(Data)"
   ]
  },
  {
   "cell_type": "code",
   "execution_count": 65,
   "metadata": {
    "collapsed": false,
    "scrolled": false
   },
   "outputs": [
    {
     "ename": "ValueError",
     "evalue": "Can only compare identically-labeled Series objects",
     "output_type": "error",
     "traceback": [
      "\u001b[0;31m---------------------------------------------------------------------------\u001b[0m",
      "\u001b[0;31mValueError\u001b[0m                                Traceback (most recent call last)",
      "\u001b[0;32m<ipython-input-65-796af28e71f1>\u001b[0m in \u001b[0;36m<module>\u001b[0;34m()\u001b[0m\n\u001b[1;32m      9\u001b[0m     \u001b[0mh\u001b[0m \u001b[0;34m=\u001b[0m \u001b[0mData\u001b[0m\u001b[0;34m[\u001b[0m\u001b[0;34m'h'\u001b[0m\u001b[0;34m]\u001b[0m\u001b[0;34m[\u001b[0m\u001b[0mktrip\u001b[0m\u001b[0;34m]\u001b[0m\u001b[0;34m\u001b[0m\u001b[0m\n\u001b[1;32m     10\u001b[0m     \u001b[0mr\u001b[0m \u001b[0;34m=\u001b[0m \u001b[0mData\u001b[0m\u001b[0;34m[\u001b[0m\u001b[0;34m'r'\u001b[0m\u001b[0;34m]\u001b[0m\u001b[0;34m[\u001b[0m\u001b[0mktrip\u001b[0m\u001b[0;34m]\u001b[0m\u001b[0;34m\u001b[0m\u001b[0m\n\u001b[0;32m---> 11\u001b[0;31m     \u001b[0;32mif\u001b[0m \u001b[0;34m(\u001b[0m\u001b[0mr\u001b[0m\u001b[0;34m==\u001b[0m\u001b[0mData\u001b[0m\u001b[0;34m[\u001b[0m\u001b[0;34m'r'\u001b[0m\u001b[0;34m]\u001b[0m\u001b[0;34m[\u001b[0m\u001b[0mktrip\u001b[0m\u001b[0;34m-\u001b[0m\u001b[0;36m1\u001b[0m\u001b[0;34m]\u001b[0m\u001b[0;34m)\u001b[0m \u001b[0;34m&\u001b[0m \u001b[0;34m(\u001b[0m\u001b[0mh\u001b[0m\u001b[0;34m==\u001b[0m\u001b[0mData\u001b[0m\u001b[0;34m[\u001b[0m\u001b[0;34m'h'\u001b[0m\u001b[0;34m]\u001b[0m\u001b[0;34m[\u001b[0m\u001b[0mktrip\u001b[0m\u001b[0;34m-\u001b[0m\u001b[0;36m1\u001b[0m\u001b[0;34m]\u001b[0m\u001b[0;34m)\u001b[0m\u001b[0;34m:\u001b[0m\u001b[0;34m\u001b[0m\u001b[0m\n\u001b[0m\u001b[1;32m     12\u001b[0m         \u001b[0;32mcontinue\u001b[0m \u001b[0;31m# repetitve head-relation\u001b[0m\u001b[0;34m\u001b[0m\u001b[0m\n\u001b[1;32m     13\u001b[0m     \u001b[0;32melse\u001b[0m\u001b[0;34m:\u001b[0m\u001b[0;34m\u001b[0m\u001b[0m\n",
      "\u001b[0;32m~/anaconda3/lib/python3.5/site-packages/pandas/core/ops.py\u001b[0m in \u001b[0;36mwrapper\u001b[0;34m(self, other, axis)\u001b[0m\n\u001b[1;32m    816\u001b[0m             \u001b[0;32mif\u001b[0m \u001b[0;32mnot\u001b[0m \u001b[0mself\u001b[0m\u001b[0;34m.\u001b[0m\u001b[0m_indexed_same\u001b[0m\u001b[0;34m(\u001b[0m\u001b[0mother\u001b[0m\u001b[0;34m)\u001b[0m\u001b[0;34m:\u001b[0m\u001b[0;34m\u001b[0m\u001b[0m\n\u001b[1;32m    817\u001b[0m                 \u001b[0mmsg\u001b[0m \u001b[0;34m=\u001b[0m \u001b[0;34m'Can only compare identically-labeled Series objects'\u001b[0m\u001b[0;34m\u001b[0m\u001b[0m\n\u001b[0;32m--> 818\u001b[0;31m                 \u001b[0;32mraise\u001b[0m \u001b[0mValueError\u001b[0m\u001b[0;34m(\u001b[0m\u001b[0mmsg\u001b[0m\u001b[0;34m)\u001b[0m\u001b[0;34m\u001b[0m\u001b[0m\n\u001b[0m\u001b[1;32m    819\u001b[0m             return self._constructor(na_op(self.values, other.values),\n\u001b[1;32m    820\u001b[0m                                      index=self.index, name=name)\n",
      "\u001b[0;31mValueError\u001b[0m: Can only compare identically-labeled Series objects"
     ]
    }
   ],
   "source": [
    "# generate negative samples\n",
    "nbadmax=2\n",
    "new={}\n",
    "new['r'] = []\n",
    "new['h'] =[]\n",
    "new['t'] = []\n",
    "\n",
    "for tripl in Data:\n",
    "    h = tripl['h']\n",
    "    r = tripl['r']\n",
    "    if (r==Data['r'][ktrip-1]) & (h==Data['h'][ktrip-1]):\n",
    "        continue # repetitve head-relation\n",
    "    else:\n",
    "        tdict=Data['t']\n",
    "        goodts = tdict[(Data['h']==h) & (Data['r']==r) & (Data['y']==1)]\n",
    "        if len(goodts)==0:\n",
    "            continue\n",
    "        otherts = tdict[(Data['h']!=h) & (Data['r']==r)& (Data['y']==1)]\n",
    "        badts=list(set(otherts)-set(goodts))\n",
    "        if len(badts)!=0:\n",
    "            nbad=min(nbadmax,len(badts))\n",
    "            new['h'] = new['h']+[h for k in range(nbad)]\n",
    "            new['r'] = new['r']+[r for k in range(nbad)]\n",
    "            [new['t'].append(k) for k in np.random.choice(badts,size=nbad,replace=False)]\n",
    "            \n",
    "assert len(new['h'])==len(new['t'])\n",
    "\n",
    "new['y'] = [-1 for k in range(len(new['t']))]"
   ]
  },
  {
   "cell_type": "code",
   "execution_count": 66,
   "metadata": {
    "collapsed": false
   },
   "outputs": [
    {
     "ename": "KeyError",
     "evalue": "'y'",
     "output_type": "error",
     "traceback": [
      "\u001b[0;31m---------------------------------------------------------------------------\u001b[0m",
      "\u001b[0;31mKeyError\u001b[0m                                  Traceback (most recent call last)",
      "\u001b[0;32m<ipython-input-66-13e44abb24bb>\u001b[0m in \u001b[0;36m<module>\u001b[0;34m()\u001b[0m\n\u001b[1;32m      1\u001b[0m \u001b[0mMoreD\u001b[0m\u001b[0;34m=\u001b[0m\u001b[0;34m{\u001b[0m\u001b[0;34m}\u001b[0m\u001b[0;34m\u001b[0m\u001b[0m\n\u001b[1;32m      2\u001b[0m \u001b[0;32mfor\u001b[0m \u001b[0mk\u001b[0m \u001b[0;32min\u001b[0m \u001b[0mData\u001b[0m\u001b[0;34m.\u001b[0m\u001b[0mkeys\u001b[0m\u001b[0;34m(\u001b[0m\u001b[0;34m)\u001b[0m\u001b[0;34m:\u001b[0m\u001b[0;34m\u001b[0m\u001b[0m\n\u001b[0;32m----> 3\u001b[0;31m     \u001b[0mMoreD\u001b[0m\u001b[0;34m[\u001b[0m\u001b[0mk\u001b[0m\u001b[0;34m]\u001b[0m \u001b[0;34m=\u001b[0m \u001b[0mlist\u001b[0m\u001b[0;34m(\u001b[0m\u001b[0mData\u001b[0m\u001b[0;34m[\u001b[0m\u001b[0mk\u001b[0m\u001b[0;34m]\u001b[0m\u001b[0;34m)\u001b[0m\u001b[0;34m+\u001b[0m\u001b[0mnew\u001b[0m\u001b[0;34m[\u001b[0m\u001b[0mk\u001b[0m\u001b[0;34m]\u001b[0m\u001b[0;34m\u001b[0m\u001b[0m\n\u001b[0m\u001b[1;32m      4\u001b[0m \u001b[0mMoreD\u001b[0m\u001b[0;34m=\u001b[0m\u001b[0mpd\u001b[0m\u001b[0;34m.\u001b[0m\u001b[0mDataFrame\u001b[0m\u001b[0;34m(\u001b[0m\u001b[0mMoreD\u001b[0m\u001b[0;34m)\u001b[0m\u001b[0;34m\u001b[0m\u001b[0m\n",
      "\u001b[0;31mKeyError\u001b[0m: 'y'"
     ]
    }
   ],
   "source": [
    "MoreD={}\n",
    "for k in Data.keys():\n",
    "    MoreD[k] = list(Data[k])+new[k]\n",
    "MoreD=pd.DataFrame(MoreD)"
   ]
  },
  {
   "cell_type": "code",
   "execution_count": 6,
   "metadata": {
    "collapsed": true
   },
   "outputs": [],
   "source": []
  },
  {
   "cell_type": "code",
   "execution_count": 7,
   "metadata": {
    "collapsed": false
   },
   "outputs": [],
   "source": [
    "pickle.dump([MoreD,pddict,idsubdict], open('../data/mammal_data_addtype.p','wb'))"
   ]
  }
 ],
 "metadata": {
  "anaconda-cloud": {},
  "kernelspec": {
   "display_name": "Python [Root]",
   "language": "python",
   "name": "Python [Root]"
  },
  "language_info": {
   "codemirror_mode": {
    "name": "ipython",
    "version": 3
   },
   "file_extension": ".py",
   "mimetype": "text/x-python",
   "name": "python",
   "nbconvert_exporter": "python",
   "pygments_lexer": "ipython3",
   "version": "3.5.2"
  }
 },
 "nbformat": 4,
 "nbformat_minor": 2
}
