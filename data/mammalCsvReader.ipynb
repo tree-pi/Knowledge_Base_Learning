{
 "cells": [
  {
   "cell_type": "code",
   "execution_count": 27,
   "metadata": {
    "collapsed": true
   },
   "outputs": [],
   "source": [
    "# code to import cleaned up canadian mammal dataset\n",
    "import csv\n",
    "import pandas as pd\n",
    "import pickle"
   ]
  },
  {
   "cell_type": "code",
   "execution_count": 20,
   "metadata": {
    "collapsed": true
   },
   "outputs": [],
   "source": [
    "mammals = []\n",
    "\n",
    "def csv_reader(data):\n",
    "    with open(data, newline='',encoding=\"ISO-8859-1\") as f:\n",
    "        reader = csv.reader(f)\n",
    "        for row in reader:\n",
    "            mammals.append(row)\n",
    "\n",
    "csv_reader('mammal_dataset.csv')\n",
    "       "
   ]
  },
  {
   "cell_type": "code",
   "execution_count": 22,
   "metadata": {
    "collapsed": true
   },
   "outputs": [],
   "source": [
    "keys = ['entity','relation']\n",
    "\n",
    "idDict = {}\n",
    "\n",
    "for k in keys:\n",
    "    idDict[k]=[]\n",
    "\n",
    "datakey = ['h','t','r','y']\n",
    "DataTable={}\n",
    "for k in datakey:\n",
    "    DataTable[k]=[]\n",
    "    \n",
    "for m in mammals:\n",
    "    # add to iddict\n",
    "    for k in [0,2]:\n",
    "        if m[k] not in idDict['entity']:\n",
    "            idDict['entity'].append(m[k])\n",
    "    if m[1] not in idDict['relation']:\n",
    "        idDict['relation'].append(m[1])\n",
    "   "
   ]
  },
  {
   "cell_type": "code",
   "execution_count": 24,
   "metadata": {
    "collapsed": false
   },
   "outputs": [],
   "source": [
    "#add triplets\n",
    "for m in mammals:    \n",
    "    DataTable['h'].append(idDict['entity'].index(m[0]))\n",
    "    DataTable['t'].append(idDict['entity'].index(m[2]))\n",
    "    DataTable['r'].append(idDict['relation'].index(m[1]))\n",
    "    DataTable['y'].append(1)\n"
   ]
  },
  {
   "cell_type": "code",
   "execution_count": 32,
   "metadata": {
    "collapsed": false
   },
   "outputs": [
    {
     "data": {
      "text/plain": [
       "2040"
      ]
     },
     "execution_count": 32,
     "metadata": {},
     "output_type": "execute_result"
    }
   ],
   "source": [
    "len(DataTable['t'])"
   ]
  },
  {
   "cell_type": "code",
   "execution_count": 25,
   "metadata": {
    "collapsed": false
   },
   "outputs": [],
   "source": [
    "\n",
    "Data=pd.DataFrame(DataTable)"
   ]
  },
  {
   "cell_type": "code",
   "execution_count": 33,
   "metadata": {
    "collapsed": false
   },
   "outputs": [],
   "source": [
    "pickle.dump([Data,idDict],file=open('mammal_data.p','bw'))"
   ]
  }
 ],
 "metadata": {
  "kernelspec": {
   "display_name": "Python [Root]",
   "language": "python",
   "name": "Python [Root]"
  },
  "language_info": {
   "codemirror_mode": {
    "name": "ipython",
    "version": 3
   },
   "file_extension": ".py",
   "mimetype": "text/x-python",
   "name": "python",
   "nbconvert_exporter": "python",
   "pygments_lexer": "ipython3",
   "version": "3.5.2"
  }
 },
 "nbformat": 4,
 "nbformat_minor": 2
}
